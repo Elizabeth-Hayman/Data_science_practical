{
 "cells": [
  {
   "cell_type": "code",
   "execution_count": 2,
   "id": "74e476d3",
   "metadata": {},
   "outputs": [
    {
     "ename": "ModuleNotFoundError",
     "evalue": "No module named 'rdkit'",
     "output_type": "error",
     "traceback": [
      "\u001b[0;31m---------------------------------------------------------------------------\u001b[0m",
      "\u001b[0;31mModuleNotFoundError\u001b[0m                       Traceback (most recent call last)",
      "\u001b[0;32m/tmp/ipykernel_28625/1328371698.py\u001b[0m in \u001b[0;36m<module>\u001b[0;34m\u001b[0m\n\u001b[1;32m      5\u001b[0m \u001b[0;32mfrom\u001b[0m \u001b[0mpathlib\u001b[0m \u001b[0;32mimport\u001b[0m \u001b[0mPath\u001b[0m\u001b[0;34m\u001b[0m\u001b[0;34m\u001b[0m\u001b[0m\n\u001b[1;32m      6\u001b[0m \u001b[0;32mimport\u001b[0m \u001b[0mpandas\u001b[0m \u001b[0;32mas\u001b[0m \u001b[0mpd\u001b[0m\u001b[0;34m\u001b[0m\u001b[0;34m\u001b[0m\u001b[0m\n\u001b[0;32m----> 7\u001b[0;31m \u001b[0;32mimport\u001b[0m \u001b[0mrdkit\u001b[0m\u001b[0;34m\u001b[0m\u001b[0;34m\u001b[0m\u001b[0m\n\u001b[0m\u001b[1;32m      8\u001b[0m \u001b[0;32mfrom\u001b[0m \u001b[0mrdkit\u001b[0m\u001b[0;34m.\u001b[0m\u001b[0mChem\u001b[0m \u001b[0;32mimport\u001b[0m \u001b[0mDescriptors\u001b[0m\u001b[0;34m\u001b[0m\u001b[0;34m\u001b[0m\u001b[0m\n",
      "\u001b[0;31mModuleNotFoundError\u001b[0m: No module named 'rdkit'"
     ]
    }
   ],
   "source": [
    "# Imports for the \n",
    "import re\n",
    "import csv\n",
    "import sqlite3\n",
    "from pathlib import Path\n",
    "import pandas as pd\n",
    "import rdkit\n",
    "from rdkit.Chem import Descriptors"
   ]
  },
  {
   "cell_type": "code",
   "execution_count": null,
   "id": "265d08ea",
   "metadata": {},
   "outputs": [],
   "source": [
    "# Create database file and establish a connection\n",
    "database_path = \"./MPro_database.db\"\n",
    "conn = sqlite3.connect(database_path)\n",
    "drop_order = ('compounds', 'assays')"
   ]
  },
  {
   "cell_type": "code",
   "execution_count": null,
   "id": "dbe3507d",
   "metadata": {},
   "outputs": [
    {
     "data": {
      "text/plain": [
       "<sqlite3.Cursor at 0x7f2e3f6c3420>"
      ]
     },
     "execution_count": 3,
     "metadata": {},
     "output_type": "execute_result"
    }
   ],
   "source": [
    "# Create a database of compounds and their SMILES string\n",
    "conn.execute('''\n",
    "CREATE TABLE compounds\n",
    "(\n",
    "    CID PRIMARY KEY,\n",
    "    SMILES\n",
    ")\n",
    "        ''')"
   ]
  },
  {
   "cell_type": "code",
   "execution_count": null,
   "id": "40070e79",
   "metadata": {},
   "outputs": [],
   "source": [
    "df = pd.read_csv('activity_data.csv')\n",
    "\n",
    "for i in range(len(df)):\n",
    "    row = df.iloc[i]\n",
    "    values  =  (row['CID'], \n",
    "         row['SMILES']\n",
    "        )\n",
    "    conn.execute('INSERT INTO compounds (CID, SMILES) VALUES (?,?)',\n",
    "        values)"
   ]
  },
  {
   "cell_type": "code",
   "execution_count": null,
   "id": "601933ab",
   "metadata": {},
   "outputs": [
    {
     "data": {
      "text/plain": [
       "<sqlite3.Cursor at 0x7f2e3f684810>"
      ]
     },
     "execution_count": 5,
     "metadata": {},
     "output_type": "execute_result"
    }
   ],
   "source": [
    "# Creates and populates a table of assays, including a foreign key linking the assays to the compounds table\n",
    "conn.execute('''\n",
    "CREATE TABLE assays\n",
    "(\n",
    "    CID PRIMARY KEY,\n",
    "    canonical_CID,\n",
    "    r_inhibition_at_20_uM,\n",
    "    r_inhibition_at_50_uM,\n",
    "    r_avg_IC50,\n",
    "    f_inhibition_at_20_uM,\n",
    "    f_inhibition_at_50_uM,\n",
    "    f_avg_IC50,\n",
    "    f_avg_pIC50,\n",
    "    relative_solubility_at_20_uM,\n",
    "    relative_solubility_at_100_uM,\n",
    "    trypsin_IC50,\n",
    "    NMR_std_ratio,\n",
    "    acrylamide,\n",
    "    chloroacetamide,\n",
    "    series,\n",
    "    frag_id,\n",
    "    compoundID,\n",
    "    FOREIGN KEY (CompoundID) REFERENCES compounds (CID)\n",
    ")\n",
    "        ''')\n"
   ]
  },
  {
   "cell_type": "code",
   "execution_count": null,
   "id": "9762bdeb",
   "metadata": {},
   "outputs": [],
   "source": [
    "df_short = df.iloc[:,1:]\n",
    "\n",
    "for i in range(len(df_short)):\n",
    "    row = df_short.iloc[i]\n",
    "    values = []\n",
    "    \n",
    "    for element in row[:]:\n",
    "        values.append(element)\n",
    "    values.append(row[0])\n",
    "    conn.execute('INSERT INTO assays (CID, canonical_CID, r_inhibition_at_20_uM, r_inhibition_at_50_uM, r_avg_IC50, f_inhibition_at_20_uM, f_inhibition_at_50_uM, f_avg_IC50, f_avg_pIC50, relative_solubility_at_20_uM, relative_solubility_at_100_uM, trypsin_IC50, NMR_std_ratio, acrylamide, chloroacetamide, series, frag_id, compoundID) VALUES (?,?,?,?,?,?,?,?,?,?,?,?,?,?,?,?,?,?)',\n",
    "             (values)\n",
    "                )"
   ]
  },
  {
   "cell_type": "code",
   "execution_count": null,
   "id": "97d3bf20",
   "metadata": {},
   "outputs": [],
   "source": [
    "def retrieve_SMILES(compoundID: str):\n",
    "    list_smiles = []\n",
    "    SMILES = conn.execute('''\n",
    "        SELECT SMILES\n",
    "        FROM compounds\n",
    "        WHERE \n",
    "            CID = ?\n",
    "    ''', (compoundID,))\n",
    "    for sm in SMILES:\n",
    "        list_smiles.append(sm)\n",
    "    return (list_smiles[0])\n",
    "        \n",
    "def retrieve_assays(compoundID: str):\n",
    "    list_assays = []\n",
    "    ASSAYS = conn.execute('''\n",
    "        SELECT *\n",
    "        FROM assays\n",
    "        WHERE \n",
    "            compoundID = ?\n",
    "    ''', (compoundID,))\n",
    "    \n",
    "    for assay in ASSAYS:\n",
    "        list_assays.append(assay)\n",
    "    return (list_assays[0][2:-1])"
   ]
  },
  {
   "cell_type": "code",
   "execution_count": null,
   "id": "b942446f",
   "metadata": {},
   "outputs": [
    {
     "name": "stdout",
     "output_type": "stream",
     "text": [
      "('CCn1nccc1C(=O)N1Cc2ccc(Cl)cc2C2(CCN(c3cncc4ccccc34)C2=O)C1',)\n",
      "(None, None, None, None, None, 0.297012069374338, None, None, None, None, None, 0, 0, '3-aminopyridine-like', None)\n"
     ]
    }
   ],
   "source": [
    "# Demonstrate we can retrieve the assay data and SMILES string from an ID\n",
    "\n",
    "print(retrieve_SMILES('MAT-POS-be048f2c-5'))\n",
    "print(retrieve_assays('MAT-POS-be048f2c-5'))"
   ]
  },
  {
   "cell_type": "code",
   "execution_count": null,
   "id": "9a17144c",
   "metadata": {},
   "outputs": [],
   "source": []
  },
  {
   "cell_type": "code",
   "execution_count": null,
   "id": "9dda8071",
   "metadata": {},
   "outputs": [
    {
     "name": "stdout",
     "output_type": "stream",
     "text": [
      "compounds\n",
      "\n",
      "('CREATE TABLE compounds\\n(\\n    CID PRIMARY KEY,\\n    SMILES\\n)',)\n",
      "assays\n",
      "\n",
      "('CREATE TABLE assays\\n(\\n    CID PRIMARY KEY,\\n    canonical_CID,\\n    r_inhibition_at_20_uM,\\n    r_inhibition_at_50_uM,\\n    r_avg_IC50,\\n    f_inhibition_at_20_uM,\\n    f_inhibition_at_50_uM,\\n    f_avg_IC50,\\n    f_avg_pIC50,\\n    relative_solubility_at_20_uM,\\n    relative_solubility_at_100_uM,\\n    trypsin_IC50,\\n    NMR_std_ratio,\\n    acrylamide,\\n    chloroacetamide,\\n    series,\\n    frag_id,\\n    compoundID,\\n    FOREIGN KEY (CompoundID) REFERENCES compounds (CID)\\n)',)\n"
     ]
    }
   ],
   "source": [
    "# Code to display the tables currently in the database\n",
    "\n",
    "\"\"\"\n",
    "cur = conn.execute('''\n",
    "            SELECT \n",
    "                name\n",
    "            FROM \n",
    "                sqlite_master \n",
    "            WHERE \n",
    "                type ='table' AND \n",
    "                name NOT LIKE 'sqlite_%'\n",
    "        ''')\n",
    "\n",
    "tables = []\n",
    "\n",
    "for row in cur.fetchall():\n",
    "    tables.append(row[0])\n",
    "\n",
    "for table in tables:\n",
    "    cur = conn.execute('SELECT  sql  FROM  sqlite_master  WHERE name=\\'' + table + '\\'')\n",
    "\n",
    "    row = cur.fetchone()\n",
    "\n",
    "    if row is not None:\n",
    "        print(table+'\\n')\n",
    "\n",
    "        print(row)\n",
    "    else:\n",
    "        print('Table ' + table + ' not found')\n",
    "\"\"\""
   ]
  },
  {
   "cell_type": "code",
   "execution_count": null,
   "id": "55252400",
   "metadata": {},
   "outputs": [],
   "source": [
    "#for table_name in drop_order:\n",
    " #   conn.execute('DROP TABLE IF EXISTS ' + table_name)"
   ]
  }
 ],
 "metadata": {
  "kernelspec": {
   "display_name": "Python 3 (ipykernel)",
   "language": "python",
   "name": "python3"
  },
  "language_info": {
   "codemirror_mode": {
    "name": "ipython",
    "version": 3
   },
   "file_extension": ".py",
   "mimetype": "text/x-python",
   "name": "python",
   "nbconvert_exporter": "python",
   "pygments_lexer": "ipython3",
   "version": "3.8.10"
  }
 },
 "nbformat": 4,
 "nbformat_minor": 5
}
