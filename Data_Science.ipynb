{
 "cells": [
  {
   "cell_type": "code",
   "execution_count": 1,
   "id": "74e476d3",
   "metadata": {},
   "outputs": [],
   "source": [
    "# Imports for the \n",
    "import re\n",
    "import csv\n",
    "import sqlite3\n",
    "from pathlib import Path\n",
    "import pandas as pd"
   ]
  },
  {
   "cell_type": "code",
   "execution_count": 2,
   "id": "265d08ea",
   "metadata": {},
   "outputs": [],
   "source": [
    "# Create database file and establish a connection\n",
    "database_path = \"./MPro_database.db\"\n",
    "conn = sqlite3.connect(database_path)\n",
    "drop_order = ('compounds', 'assays')"
   ]
  },
  {
   "cell_type": "code",
   "execution_count": 3,
   "id": "dbe3507d",
   "metadata": {},
   "outputs": [
    {
     "data": {
      "text/plain": [
       "<sqlite3.Cursor at 0x7ffb8c3a73b0>"
      ]
     },
     "execution_count": 3,
     "metadata": {},
     "output_type": "execute_result"
    }
   ],
   "source": [
    "# Create a database of compounds and their SMILES string\n",
    "conn.execute('''\n",
    "CREATE TABLE compounds\n",
    "(\n",
    "    CID PRIMARY KEY,\n",
    "    SMILES\n",
    ")\n",
    "        ''')"
   ]
  },
  {
   "cell_type": "code",
   "execution_count": 4,
   "id": "40070e79",
   "metadata": {},
   "outputs": [],
   "source": [
    "df = pd.read_csv('activity_data.csv')\n",
    "\n",
    "for i in range(len(df)):\n",
    "    row = df.iloc[i]\n",
    "    values  =  (row['CID'], \n",
    "         row['SMILES']\n",
    "        )\n",
    "    conn.execute('INSERT INTO compounds (CID, SMILES) VALUES (?,?)',\n",
    "        values)"
   ]
  },
  {
   "cell_type": "code",
   "execution_count": 5,
   "id": "601933ab",
   "metadata": {},
   "outputs": [
    {
     "data": {
      "text/plain": [
       "<sqlite3.Cursor at 0x7ffb8c36a880>"
      ]
     },
     "execution_count": 5,
     "metadata": {},
     "output_type": "execute_result"
    }
   ],
   "source": [
    "# Creates and populates a table of assays, including a foreign key linking the assays to the compounds table\n",
    "conn.execute('''\n",
    "CREATE TABLE assays\n",
    "(\n",
    "    CID PRIMARY KEY,\n",
    "    canonical_CID,\n",
    "    r_inhibition_at_20_uM,\n",
    "    r_inhibition_at_50_uM,\n",
    "    r_avg_IC50,\n",
    "    f_inhibition_at_20_uM,\n",
    "    f_inhibition_at_50_uM,\n",
    "    f_avg_IC50,\n",
    "    f_avg_pIC50,\n",
    "    relative_solubility_at_20_uM,\n",
    "    relative_solubility_at_100_uM,\n",
    "    trypsin_IC50,\n",
    "    NMR_std_ratio,\n",
    "    acrylamide,\n",
    "    chloroacetamide,\n",
    "    series,\n",
    "    frag_id,\n",
    "    compoundID,\n",
    "    FOREIGN KEY (CompoundID) REFERENCES compounds (CID)\n",
    ")\n",
    "        ''')\n"
   ]
  },
  {
   "cell_type": "code",
   "execution_count": 6,
   "id": "9762bdeb",
   "metadata": {},
   "outputs": [
    {
     "name": "stdout",
     "output_type": "stream",
     "text": [
      "['CCn1nccc1C(=O)N1Cc2ccc(Cl)cc2C2(CCN(c3cncc4ccccc34)C2=O)C1', 'MAT-POS-be048f2c-5', 'MAT-POS-be048f2c-5', nan, nan, nan, nan, nan, 0.297012069374338, nan, nan, nan, nan, nan, False, False, '3-aminopyridine-like']\n"
     ]
    }
   ],
   "source": [
    "df_short = df.iloc[:,1:]\n",
    "\n",
    "for i in range(len(df_short)):\n",
    "    row = df.iloc[i]\n",
    "    values = []\n",
    "    \n",
    "    for element in row[:-1]:\n",
    "        values.append(element)\n",
    "    print(values)\n",
    "    break\n",
    "    conn.execute('INSERT INTO assays (CID, canonical_CID, r_inhibition_at_20_uM, r_inhibition_at_50_uM, r_avg_IC50, f_inhibition_at_20_uM, f_inhibition_at_50_uM, f_avg_IC50, f_avg_pIC50, relative_solubility_at_20_uM, relative_solubility_at_100_uM, trypsin_IC50, NMR_std_ratio, acrylamide, chloroacetamide, series, frag_id) VALUES (?,?,?,?,?,?,?,?,?,?,?,?,?,?,?,?,?)',\n",
    "             (values)\n",
    ")"
   ]
  },
  {
   "cell_type": "code",
   "execution_count": 7,
   "id": "9cde45e4",
   "metadata": {},
   "outputs": [],
   "source": [
    "lis = conn.execute('''\n",
    "SELECT CID\n",
    "FROM assays\n",
    "''')\n",
    "\n",
    "for l in lis:\n",
    "    print(l)"
   ]
  },
  {
   "cell_type": "code",
   "execution_count": 8,
   "id": "97d3bf20",
   "metadata": {},
   "outputs": [
    {
     "data": {
      "text/plain": [
       "[]"
      ]
     },
     "execution_count": 8,
     "metadata": {},
     "output_type": "execute_result"
    }
   ],
   "source": [
    "def retrieve_SMILES(compoundID: str):\n",
    "    list_smiles = []\n",
    "    SMILES = conn.execute('''\n",
    "        SELECT SMILES\n",
    "        FROM compounds\n",
    "        WHERE \n",
    "            CID = ?\n",
    "    ''', (compoundID,))\n",
    "    for sm in SMILES:\n",
    "        list_smiles.append(sm)\n",
    "    return (list_smiles)\n",
    "        \n",
    "def retrieve_assays(compoundID: str):\n",
    "    list_assays = []\n",
    "    ASSAYS = conn.execute('''\n",
    "        SELECT series\n",
    "        FROM assays\n",
    "        WHERE \n",
    "            compoundID = ?\n",
    "    ''', (compoundID,))\n",
    "    \n",
    "    for assay in ASSAYS:\n",
    "        print(assay)\n",
    "        list_assays.append(assay)\n",
    "    return (list_assays)\n",
    "    \n",
    "retrieve_assays('MAT-POS-be048f2c-5')\n"
   ]
  },
  {
   "cell_type": "code",
   "execution_count": null,
   "id": "9a17144c",
   "metadata": {},
   "outputs": [],
   "source": []
  },
  {
   "cell_type": "code",
   "execution_count": 9,
   "id": "9dda8071",
   "metadata": {},
   "outputs": [
    {
     "name": "stdout",
     "output_type": "stream",
     "text": [
      "compounds\n",
      "\n",
      "('CREATE TABLE compounds\\n(\\n    CID PRIMARY KEY,\\n    SMILES\\n)',)\n",
      "assays\n",
      "\n",
      "('CREATE TABLE assays\\n(\\n    CID PRIMARY KEY,\\n    canonical_CID,\\n    r_inhibition_at_20_uM,\\n    r_inhibition_at_50_uM,\\n    r_avg_IC50,\\n    f_inhibition_at_20_uM,\\n    f_inhibition_at_50_uM,\\n    f_avg_IC50,\\n    f_avg_pIC50,\\n    relative_solubility_at_20_uM,\\n    relative_solubility_at_100_uM,\\n    trypsin_IC50,\\n    NMR_std_ratio,\\n    acrylamide,\\n    chloroacetamide,\\n    series,\\n    frag_id,\\n    compoundID,\\n    FOREIGN KEY (CompoundID) REFERENCES compounds (CID)\\n)',)\n"
     ]
    }
   ],
   "source": [
    "# Code to display the tables currently in the database\n",
    "\n",
    "cur = conn.execute('''\n",
    "            SELECT \n",
    "                name\n",
    "            FROM \n",
    "                sqlite_master \n",
    "            WHERE \n",
    "                type ='table' AND \n",
    "                name NOT LIKE 'sqlite_%'\n",
    "        ''')\n",
    "\n",
    "tables = []\n",
    "\n",
    "for row in cur.fetchall():\n",
    "    tables.append(row[0])\n",
    "\n",
    "for table in tables:\n",
    "    cur = conn.execute('SELECT  sql  FROM  sqlite_master  WHERE name=\\'' + table + '\\'')\n",
    "\n",
    "    row = cur.fetchone()\n",
    "\n",
    "    if row is not None:\n",
    "        print(table+'\\n')\n",
    "\n",
    "        print(row)\n",
    "    else:\n",
    "        print('Table ' + table + ' not found')\n"
   ]
  },
  {
   "cell_type": "code",
   "execution_count": 10,
   "id": "55252400",
   "metadata": {},
   "outputs": [],
   "source": [
    "#for table_name in drop_order:\n",
    " #   conn.execute('DROP TABLE IF EXISTS ' + table_name)"
   ]
  }
 ],
 "metadata": {
  "kernelspec": {
   "display_name": "Python 3 (ipykernel)",
   "language": "python",
   "name": "python3"
  },
  "language_info": {
   "codemirror_mode": {
    "name": "ipython",
    "version": 3
   },
   "file_extension": ".py",
   "mimetype": "text/x-python",
   "name": "python",
   "nbconvert_exporter": "python",
   "pygments_lexer": "ipython3",
   "version": "3.8.10"
  }
 },
 "nbformat": 4,
 "nbformat_minor": 5
}
