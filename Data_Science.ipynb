{
 "cells": [
  {
   "cell_type": "code",
   "execution_count": 1,
   "id": "74e476d3",
   "metadata": {},
   "outputs": [],
   "source": [
    "# Imports for the \n",
    "import re\n",
    "import os\n",
    "import sqlite3\n",
    "from pathlib import Path\n",
    "import pandas as pd\n",
    "import rdkit\n",
    "from rdkit.Chem import Descriptors, AllChem\n",
    "import numpy as np\n",
    "from sklearn.cluster import AffinityPropagation"
   ]
  },
  {
   "cell_type": "code",
   "execution_count": 2,
   "id": "d8847b44",
   "metadata": {},
   "outputs": [],
   "source": [
    "if os.path.exists(\"./MPro_database.db\"):\n",
    "  os.remove(\"./MPro_database.db\")"
   ]
  },
  {
   "cell_type": "code",
   "execution_count": 3,
   "id": "265d08ea",
   "metadata": {},
   "outputs": [],
   "source": [
    "# Create database file and establish a connection\n",
    "database_path = \"./MPro_database.db\"\n",
    "conn = sqlite3.connect(database_path)\n",
    "drop_order = ('compounds', 'assays')"
   ]
  },
  {
   "cell_type": "code",
   "execution_count": 4,
   "id": "dbe3507d",
   "metadata": {},
   "outputs": [
    {
     "data": {
      "text/plain": [
       "<sqlite3.Cursor at 0x7ff44dc93dc0>"
      ]
     },
     "execution_count": 4,
     "metadata": {},
     "output_type": "execute_result"
    }
   ],
   "source": [
    "# Create a database of compounds and their SMILES string\n",
    "conn.execute('''\n",
    "CREATE TABLE compounds\n",
    "(\n",
    "    CID PRIMARY KEY,\n",
    "    SMILES\n",
    ")\n",
    "        ''')"
   ]
  },
  {
   "cell_type": "code",
   "execution_count": 5,
   "id": "40070e79",
   "metadata": {},
   "outputs": [],
   "source": [
    "df = pd.read_csv('activity_data.csv')\n",
    "\n",
    "for i in range(len(df)):\n",
    "    row = df.iloc[i]\n",
    "    values  =  (row['CID'], \n",
    "         row['SMILES']\n",
    "        )\n",
    "    conn.execute('INSERT INTO compounds (CID, SMILES) VALUES (?,?)',\n",
    "        values)"
   ]
  },
  {
   "cell_type": "code",
   "execution_count": 6,
   "id": "601933ab",
   "metadata": {},
   "outputs": [
    {
     "data": {
      "text/plain": [
       "<sqlite3.Cursor at 0x7ff44da793b0>"
      ]
     },
     "execution_count": 6,
     "metadata": {},
     "output_type": "execute_result"
    }
   ],
   "source": [
    "# Creates and populates a table of assays, including a foreign key linking the assays to the compounds table\n",
    "conn.execute('''\n",
    "CREATE TABLE assays\n",
    "(\n",
    "    CID PRIMARY KEY,\n",
    "    canonical_CID,\n",
    "    r_inhibition_at_20_uM,\n",
    "    r_inhibition_at_50_uM,\n",
    "    r_avg_IC50,\n",
    "    f_inhibition_at_20_uM,\n",
    "    f_inhibition_at_50_uM,\n",
    "    f_avg_IC50,\n",
    "    f_avg_pIC50,\n",
    "    relative_solubility_at_20_uM,\n",
    "    relative_solubility_at_100_uM,\n",
    "    trypsin_IC50,\n",
    "    NMR_std_ratio,\n",
    "    acrylamide,\n",
    "    chloroacetamide,\n",
    "    series,\n",
    "    frag_id,\n",
    "    compoundID,\n",
    "    FOREIGN KEY (CompoundID) REFERENCES compounds (CID)\n",
    ")\n",
    "        ''')\n"
   ]
  },
  {
   "cell_type": "code",
   "execution_count": 7,
   "id": "9762bdeb",
   "metadata": {},
   "outputs": [],
   "source": [
    "df_short = df.iloc[:,1:]\n",
    "\n",
    "for i in range(len(df_short)):\n",
    "    row = df_short.iloc[i]\n",
    "    values = []\n",
    "    \n",
    "    for element in row[:]:\n",
    "        values.append(element)\n",
    "    values.append(row[0])\n",
    "    conn.execute('INSERT INTO assays (CID, canonical_CID, r_inhibition_at_20_uM, r_inhibition_at_50_uM, r_avg_IC50, f_inhibition_at_20_uM, f_inhibition_at_50_uM, f_avg_IC50, f_avg_pIC50, relative_solubility_at_20_uM, relative_solubility_at_100_uM, trypsin_IC50, NMR_std_ratio, acrylamide, chloroacetamide, series, frag_id, compoundID) VALUES (?,?,?,?,?,?,?,?,?,?,?,?,?,?,?,?,?,?)',\n",
    "             (values)\n",
    "                )"
   ]
  },
  {
   "cell_type": "code",
   "execution_count": 8,
   "id": "97d3bf20",
   "metadata": {},
   "outputs": [],
   "source": [
    "def retrieve_SMILES(compoundID: str):\n",
    "    list_smiles = []\n",
    "    SMILES = conn.execute('''\n",
    "        SELECT SMILES\n",
    "        FROM compounds\n",
    "        WHERE \n",
    "            CID = ?\n",
    "    ''', (compoundID,))\n",
    "    for sm in SMILES:\n",
    "        list_smiles.append(sm)\n",
    "    return (list_smiles[0][0])\n",
    "        \n",
    "def retrieve_assays(compoundID: str):\n",
    "    list_assays = []\n",
    "    ASSAYS = conn.execute('''\n",
    "        SELECT *\n",
    "        FROM assays\n",
    "        WHERE \n",
    "            compoundID = ?\n",
    "    ''', (compoundID,))\n",
    "    \n",
    "    for assay in ASSAYS:\n",
    "        list_assays.append(assay)\n",
    "    return (list_assays[0][2:-1])"
   ]
  },
  {
   "cell_type": "code",
   "execution_count": 9,
   "id": "b942446f",
   "metadata": {},
   "outputs": [
    {
     "name": "stdout",
     "output_type": "stream",
     "text": [
      "CCn1nccc1C(=O)N1Cc2ccc(Cl)cc2C2(CCN(c3cncc4ccccc34)C2=O)C1\n",
      "(None, None, None, None, None, 0.297012069374338, None, None, None, None, None, 0, 0, '3-aminopyridine-like', None)\n"
     ]
    }
   ],
   "source": [
    "# Demonstrate we can retrieve the assay data and SMILES string from an ID\n",
    "\n",
    "print(retrieve_SMILES('MAT-POS-be048f2c-5'))\n",
    "print(\"Assay results equal\" + retrieve_assays('MAT-POS-be048f2c-5'))"
   ]
  },
  {
   "cell_type": "code",
   "execution_count": null,
   "id": "9a17144c",
   "metadata": {},
   "outputs": [],
   "source": []
  },
  {
   "cell_type": "code",
   "execution_count": null,
   "id": "9dda8071",
   "metadata": {},
   "outputs": [],
   "source": []
  },
  {
   "cell_type": "code",
   "execution_count": 10,
   "id": "55252400",
   "metadata": {},
   "outputs": [],
   "source": [
    "#for table_name in drop_order:\n",
    " #   conn.execute('DROP TABLE IF EXISTS ' + table_name)"
   ]
  },
  {
   "cell_type": "code",
   "execution_count": 11,
   "id": "89d32085",
   "metadata": {},
   "outputs": [
    {
     "data": {
      "text/plain": [
       "<sqlite3.Cursor at 0x7ff44da79730>"
      ]
     },
     "execution_count": 11,
     "metadata": {},
     "output_type": "execute_result"
    }
   ],
   "source": [
    "# Molecular representations\n",
    "\n",
    "conn.execute('''\n",
    "    ALTER TABLE compounds\n",
    "    ADD fingerprint''')\n",
    "\n",
    "#conn.execute('INSERT INTO compunds (column name) WHERE CID=?', (row[0],))\n"
   ]
  },
  {
   "cell_type": "code",
   "execution_count": 23,
   "id": "fdf2e09d",
   "metadata": {},
   "outputs": [],
   "source": [
    "# Rdkit has compatibility to save a bit representation of the molecular fingerprint. Here we save the fingerprint array in a dictionary\n",
    "# and save a list of the bit representations of the fingerprints\n",
    "fingerprint_dict = {}\n",
    "fingerprint_bit_list =[]\n",
    "\n",
    "for index, row in df.iterrows():\n",
    "    id = row['CID']\n",
    "    smiles_str = retrieve_SMILES(id)\n",
    "    mol = rdkit.Chem.MolFromSmiles(smiles_str)\n",
    "    fingerprint_dict[id] =  AllChem.GetMorganFingerprintAsBitVect(mol,2,nBits=2048)\n",
    "    fingerprint_bit_list.append(np.array(fingerprint_dict[id]))\n",
    "    #conn.execute('INSERT INTO compounds (fingerprint) VALUES (?)', (fingerprint,))"
   ]
  },
  {
   "cell_type": "code",
   "execution_count": 26,
   "id": "9f884727",
   "metadata": {},
   "outputs": [],
   "source": [
    "# \n",
    "from rdkit.DataManip.Metric import GetTanimotoSimMat\n",
    "\n",
    "mols = [rdkit.Chem.MolFromSmiles(retrieve_SMILES(row['CID'])) for index, row in df.iterrows()]\n",
    "morganfps = [AllChem.GetMorganFingerprintAsBitVect(m,2) for m in mols]\n",
    "sim_matrix = GetTanimotoSimMat(morganfps)"
   ]
  },
  {
   "cell_type": "code",
   "execution_count": 31,
   "id": "fd8595a3",
   "metadata": {},
   "outputs": [],
   "source": [
    "def tri2mat(tri_arr):\n",
    "    n = len(tri_arr)\n",
    "    m = int((np.sqrt(1 + 4 * 2 * n) + 1) / 2)\n",
    "    arr = np.ones([m, m])\n",
    "    for i in range(m):\n",
    "        for j in range(i):\n",
    "            arr[i][j] = tri_arr[i + j - 1]\n",
    "            arr[j][i] = tri_arr[i + j - 1]\n",
    "    return arr\n",
    "\n",
    "sim_matrix = tri2mat(sim_matrix)"
   ]
  },
  {
   "cell_type": "code",
   "execution_count": 13,
   "id": "075d8954",
   "metadata": {},
   "outputs": [
    {
     "name": "stdout",
     "output_type": "stream",
     "text": [
      "[[1.         0.82352941 0.83823529 ... 0.21238938 0.38938053 0.40776699]\n",
      " [0.82352941 1.         0.86567164 ... 0.1981982  0.37837838 0.3960396 ]\n",
      " [0.83823529 0.86567164 1.         ... 0.1981982  0.37837838 0.3960396 ]\n",
      " ...\n",
      " [0.21238938 0.1981982  0.1981982  ... 1.         0.59090909 0.35897436]\n",
      " [0.38938053 0.37837838 0.37837838 ... 0.59090909 1.         0.82051282]\n",
      " [0.40776699 0.3960396  0.3960396  ... 0.35897436 0.82051282 1.        ]]\n"
     ]
    }
   ],
   "source": [
    "# Use the inbuilt dice similarity metric to create a distance matrix between the compounds\n",
    "num_data = index\n",
    "sim_matrix = np.zeros((num_data+1, num_data+1))\n",
    "id_list = fingerprint_dict.keys()\n",
    "\n",
    "for i, i_id in enumerate(id_list):\n",
    "    for j, j_id in enumerate(id_list):\n",
    "        sim_matrix[i, j] = rdkit.DataStructs.FingerprintSimilarity(fingerprint_dict[i_id], \n",
    "                                fingerprint_dict[j_id], metric=rdkit.DataStructs.DiceSimilarity)\n",
    "print(sim_matrix)"
   ]
  },
  {
   "cell_type": "code",
   "execution_count": 32,
   "id": "c9b89eff",
   "metadata": {},
   "outputs": [
    {
     "name": "stderr",
     "output_type": "stream",
     "text": [
      "/home/sabsr3/software_engineering/venv/lib/python3.8/site-packages/sklearn/cluster/_affinity_propagation.py:250: ConvergenceWarning: Affinity propagation did not converge, this model will not have any cluster centers.\n",
      "  warnings.warn(\n"
     ]
    }
   ],
   "source": [
    "# Using a sklearn clustering method that allows a similarity matrix as input. \n",
    "# Returns a list of cluster indices\n",
    "cluster = AffinityPropagation(affinity = 'precomputed').fit_predict(sim_matrix)\n"
   ]
  },
  {
   "cell_type": "code",
   "execution_count": 15,
   "id": "4568641e",
   "metadata": {},
   "outputs": [
    {
     "name": "stdout",
     "output_type": "stream",
     "text": [
      "174\n"
     ]
    }
   ],
   "source": [
    "print(max(cluster))\n"
   ]
  }
 ],
 "metadata": {
  "kernelspec": {
   "display_name": "Python 3 (ipykernel)",
   "language": "python",
   "name": "python3"
  },
  "language_info": {
   "codemirror_mode": {
    "name": "ipython",
    "version": 3
   },
   "file_extension": ".py",
   "mimetype": "text/x-python",
   "name": "python",
   "nbconvert_exporter": "python",
   "pygments_lexer": "ipython3",
   "version": "3.8.10"
  }
 },
 "nbformat": 4,
 "nbformat_minor": 5
}
